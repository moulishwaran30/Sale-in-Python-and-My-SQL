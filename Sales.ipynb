{
 "cells": [
  {
   "cell_type": "markdown",
   "id": "fa353541",
   "metadata": {},
   "source": [
    "# Sales"
   ]
  },
  {
   "cell_type": "markdown",
   "id": "e5eab041",
   "metadata": {},
   "source": [
    "### Importing Libraries"
   ]
  },
  {
   "cell_type": "code",
   "execution_count": 1,
   "id": "3e800951",
   "metadata": {},
   "outputs": [],
   "source": [
    "import pandas as pd\n",
    "\n",
    "import matplotlib.pyplot as plt\n",
    "import seaborn as sns"
   ]
  },
  {
   "cell_type": "markdown",
   "id": "1bef4343",
   "metadata": {},
   "source": [
    "### Import Data"
   ]
  },
  {
   "cell_type": "code",
   "execution_count": 2,
   "id": "a6ba09e2",
   "metadata": {},
   "outputs": [
    {
     "data": {
      "text/html": [
       "<div>\n",
       "<style scoped>\n",
       "    .dataframe tbody tr th:only-of-type {\n",
       "        vertical-align: middle;\n",
       "    }\n",
       "\n",
       "    .dataframe tbody tr th {\n",
       "        vertical-align: top;\n",
       "    }\n",
       "\n",
       "    .dataframe thead th {\n",
       "        text-align: right;\n",
       "    }\n",
       "</style>\n",
       "<table border=\"1\" class=\"dataframe\">\n",
       "  <thead>\n",
       "    <tr style=\"text-align: right;\">\n",
       "      <th></th>\n",
       "      <th>date</th>\n",
       "      <th>customerid</th>\n",
       "      <th>product_quantity</th>\n",
       "      <th>price_per_item</th>\n",
       "      <th>region</th>\n",
       "      <th>transaction_id</th>\n",
       "    </tr>\n",
       "  </thead>\n",
       "  <tbody>\n",
       "    <tr>\n",
       "      <th>0</th>\n",
       "      <td>2021-10-09</td>\n",
       "      <td>CC1</td>\n",
       "      <td>3</td>\n",
       "      <td>33</td>\n",
       "      <td>E</td>\n",
       "      <td>1</td>\n",
       "    </tr>\n",
       "    <tr>\n",
       "      <th>1</th>\n",
       "      <td>2021-10-09</td>\n",
       "      <td>CC1</td>\n",
       "      <td>4</td>\n",
       "      <td>22</td>\n",
       "      <td>A</td>\n",
       "      <td>2</td>\n",
       "    </tr>\n",
       "    <tr>\n",
       "      <th>2</th>\n",
       "      <td>2020-12-26</td>\n",
       "      <td>CC1</td>\n",
       "      <td>2</td>\n",
       "      <td>111</td>\n",
       "      <td>F</td>\n",
       "      <td>3</td>\n",
       "    </tr>\n",
       "    <tr>\n",
       "      <th>3</th>\n",
       "      <td>2020-12-27</td>\n",
       "      <td>CC2</td>\n",
       "      <td>1</td>\n",
       "      <td>22</td>\n",
       "      <td>G</td>\n",
       "      <td>4</td>\n",
       "    </tr>\n",
       "    <tr>\n",
       "      <th>4</th>\n",
       "      <td>2020-12-28</td>\n",
       "      <td>CC2</td>\n",
       "      <td>4</td>\n",
       "      <td>11000</td>\n",
       "      <td>G</td>\n",
       "      <td>5</td>\n",
       "    </tr>\n",
       "    <tr>\n",
       "      <th>5</th>\n",
       "      <td>2020-12-29</td>\n",
       "      <td>CC3</td>\n",
       "      <td>2</td>\n",
       "      <td>33</td>\n",
       "      <td>S</td>\n",
       "      <td>6</td>\n",
       "    </tr>\n",
       "    <tr>\n",
       "      <th>6</th>\n",
       "      <td>2020-12-30</td>\n",
       "      <td>CC3</td>\n",
       "      <td>1</td>\n",
       "      <td>22</td>\n",
       "      <td>S</td>\n",
       "      <td>7</td>\n",
       "    </tr>\n",
       "    <tr>\n",
       "      <th>7</th>\n",
       "      <td>2021-10-09</td>\n",
       "      <td>CC4</td>\n",
       "      <td>3</td>\n",
       "      <td>11000</td>\n",
       "      <td>E</td>\n",
       "      <td>8</td>\n",
       "    </tr>\n",
       "    <tr>\n",
       "      <th>8</th>\n",
       "      <td>2021-10-10</td>\n",
       "      <td>CC4</td>\n",
       "      <td>4</td>\n",
       "      <td>33</td>\n",
       "      <td>R</td>\n",
       "      <td>9</td>\n",
       "    </tr>\n",
       "  </tbody>\n",
       "</table>\n",
       "</div>"
      ],
      "text/plain": [
       "        date customerid  product_quantity  price_per_item region  \\\n",
       "0 2021-10-09        CC1                 3              33      E   \n",
       "1 2021-10-09        CC1                 4              22      A   \n",
       "2 2020-12-26        CC1                 2             111      F   \n",
       "3 2020-12-27        CC2                 1              22      G   \n",
       "4 2020-12-28        CC2                 4           11000      G   \n",
       "5 2020-12-29        CC3                 2              33      S   \n",
       "6 2020-12-30        CC3                 1              22      S   \n",
       "7 2021-10-09        CC4                 3           11000      E   \n",
       "8 2021-10-10        CC4                 4              33      R   \n",
       "\n",
       "   transaction_id  \n",
       "0               1  \n",
       "1               2  \n",
       "2               3  \n",
       "3               4  \n",
       "4               5  \n",
       "5               6  \n",
       "6               7  \n",
       "7               8  \n",
       "8               9  "
      ]
     },
     "execution_count": 2,
     "metadata": {},
     "output_type": "execute_result"
    }
   ],
   "source": [
    "Data = pd.read_excel(r'D:\\Downloads\\questions.xlsx')\n",
    "Data"
   ]
  },
  {
   "cell_type": "markdown",
   "id": "df434ad8",
   "metadata": {},
   "source": [
    "### Adding Sales in Dataset"
   ]
  },
  {
   "cell_type": "code",
   "execution_count": 3,
   "id": "fede04e2",
   "metadata": {},
   "outputs": [
    {
     "data": {
      "text/html": [
       "<div>\n",
       "<style scoped>\n",
       "    .dataframe tbody tr th:only-of-type {\n",
       "        vertical-align: middle;\n",
       "    }\n",
       "\n",
       "    .dataframe tbody tr th {\n",
       "        vertical-align: top;\n",
       "    }\n",
       "\n",
       "    .dataframe thead th {\n",
       "        text-align: right;\n",
       "    }\n",
       "</style>\n",
       "<table border=\"1\" class=\"dataframe\">\n",
       "  <thead>\n",
       "    <tr style=\"text-align: right;\">\n",
       "      <th></th>\n",
       "      <th>date</th>\n",
       "      <th>customerid</th>\n",
       "      <th>product_quantity</th>\n",
       "      <th>price_per_item</th>\n",
       "      <th>region</th>\n",
       "      <th>transaction_id</th>\n",
       "      <th>sales</th>\n",
       "    </tr>\n",
       "  </thead>\n",
       "  <tbody>\n",
       "    <tr>\n",
       "      <th>0</th>\n",
       "      <td>2021-10-09</td>\n",
       "      <td>CC1</td>\n",
       "      <td>3</td>\n",
       "      <td>33</td>\n",
       "      <td>E</td>\n",
       "      <td>1</td>\n",
       "      <td>99</td>\n",
       "    </tr>\n",
       "    <tr>\n",
       "      <th>1</th>\n",
       "      <td>2021-10-09</td>\n",
       "      <td>CC1</td>\n",
       "      <td>4</td>\n",
       "      <td>22</td>\n",
       "      <td>A</td>\n",
       "      <td>2</td>\n",
       "      <td>88</td>\n",
       "    </tr>\n",
       "    <tr>\n",
       "      <th>2</th>\n",
       "      <td>2020-12-26</td>\n",
       "      <td>CC1</td>\n",
       "      <td>2</td>\n",
       "      <td>111</td>\n",
       "      <td>F</td>\n",
       "      <td>3</td>\n",
       "      <td>222</td>\n",
       "    </tr>\n",
       "    <tr>\n",
       "      <th>3</th>\n",
       "      <td>2020-12-27</td>\n",
       "      <td>CC2</td>\n",
       "      <td>1</td>\n",
       "      <td>22</td>\n",
       "      <td>G</td>\n",
       "      <td>4</td>\n",
       "      <td>22</td>\n",
       "    </tr>\n",
       "    <tr>\n",
       "      <th>4</th>\n",
       "      <td>2020-12-28</td>\n",
       "      <td>CC2</td>\n",
       "      <td>4</td>\n",
       "      <td>11000</td>\n",
       "      <td>G</td>\n",
       "      <td>5</td>\n",
       "      <td>44000</td>\n",
       "    </tr>\n",
       "    <tr>\n",
       "      <th>5</th>\n",
       "      <td>2020-12-29</td>\n",
       "      <td>CC3</td>\n",
       "      <td>2</td>\n",
       "      <td>33</td>\n",
       "      <td>S</td>\n",
       "      <td>6</td>\n",
       "      <td>66</td>\n",
       "    </tr>\n",
       "    <tr>\n",
       "      <th>6</th>\n",
       "      <td>2020-12-30</td>\n",
       "      <td>CC3</td>\n",
       "      <td>1</td>\n",
       "      <td>22</td>\n",
       "      <td>S</td>\n",
       "      <td>7</td>\n",
       "      <td>22</td>\n",
       "    </tr>\n",
       "    <tr>\n",
       "      <th>7</th>\n",
       "      <td>2021-10-09</td>\n",
       "      <td>CC4</td>\n",
       "      <td>3</td>\n",
       "      <td>11000</td>\n",
       "      <td>E</td>\n",
       "      <td>8</td>\n",
       "      <td>33000</td>\n",
       "    </tr>\n",
       "    <tr>\n",
       "      <th>8</th>\n",
       "      <td>2021-10-10</td>\n",
       "      <td>CC4</td>\n",
       "      <td>4</td>\n",
       "      <td>33</td>\n",
       "      <td>R</td>\n",
       "      <td>9</td>\n",
       "      <td>132</td>\n",
       "    </tr>\n",
       "  </tbody>\n",
       "</table>\n",
       "</div>"
      ],
      "text/plain": [
       "        date customerid  product_quantity  price_per_item region  \\\n",
       "0 2021-10-09        CC1                 3              33      E   \n",
       "1 2021-10-09        CC1                 4              22      A   \n",
       "2 2020-12-26        CC1                 2             111      F   \n",
       "3 2020-12-27        CC2                 1              22      G   \n",
       "4 2020-12-28        CC2                 4           11000      G   \n",
       "5 2020-12-29        CC3                 2              33      S   \n",
       "6 2020-12-30        CC3                 1              22      S   \n",
       "7 2021-10-09        CC4                 3           11000      E   \n",
       "8 2021-10-10        CC4                 4              33      R   \n",
       "\n",
       "   transaction_id  sales  \n",
       "0               1     99  \n",
       "1               2     88  \n",
       "2               3    222  \n",
       "3               4     22  \n",
       "4               5  44000  \n",
       "5               6     66  \n",
       "6               7     22  \n",
       "7               8  33000  \n",
       "8               9    132  "
      ]
     },
     "execution_count": 3,
     "metadata": {},
     "output_type": "execute_result"
    }
   ],
   "source": [
    "Data[\"sales\"] = Data[\"product_quantity\"]*Data[\"price_per_item\"]\n",
    "Data"
   ]
  },
  {
   "cell_type": "code",
   "execution_count": 4,
   "id": "6efb93f1",
   "metadata": {},
   "outputs": [
    {
     "name": "stdout",
     "output_type": "stream",
     "text": [
      "<class 'pandas.core.frame.DataFrame'>\n",
      "RangeIndex: 9 entries, 0 to 8\n",
      "Data columns (total 7 columns):\n",
      " #   Column            Non-Null Count  Dtype         \n",
      "---  ------            --------------  -----         \n",
      " 0   date              9 non-null      datetime64[ns]\n",
      " 1   customerid        9 non-null      object        \n",
      " 2   product_quantity  9 non-null      int64         \n",
      " 3   price_per_item    9 non-null      int64         \n",
      " 4   region            9 non-null      object        \n",
      " 5   transaction_id    9 non-null      int64         \n",
      " 6   sales             9 non-null      int64         \n",
      "dtypes: datetime64[ns](1), int64(4), object(2)\n",
      "memory usage: 632.0+ bytes\n"
     ]
    }
   ],
   "source": [
    "Data.info()"
   ]
  },
  {
   "cell_type": "markdown",
   "id": "c974e92b",
   "metadata": {},
   "source": [
    "### Data Visualization"
   ]
  },
  {
   "cell_type": "code",
   "execution_count": 5,
   "id": "10e332f1",
   "metadata": {
    "scrolled": false
   },
   "outputs": [
    {
     "data": {
      "text/plain": [
       "<AxesSubplot:title={'center':'No of time Customer'}, xlabel='customerid', ylabel='count'>"
      ]
     },
     "execution_count": 5,
     "metadata": {},
     "output_type": "execute_result"
    },
    {
     "data": {
      "image/png": "[encoded data removed]",
      "text/plain": [
       "<Figure size 720x576 with 1 Axes>"
      ]
     },
     "metadata": {
      "needs_background": "light"
     },
     "output_type": "display_data"
    }
   ],
   "source": [
    "plt.figure(figsize=(10,8))\n",
    "plt.title('No of time Customer',fontsize = 20)\n",
    "sns.countplot(data = Data, x = \"customerid\", palette=('RdPu'))"
   ]
  },
  {
   "cell_type": "code",
   "execution_count": 6,
   "id": "82959f8a",
   "metadata": {},
   "outputs": [
    {
     "data": {
      "text/plain": [
       "<AxesSubplot:title={'center':'No of Sales in each region'}, xlabel='region', ylabel='count'>"
      ]
     },
     "execution_count": 6,
     "metadata": {},
     "output_type": "execute_result"
    },
    {
     "data": {
      "image/png": "[encoded data removed]",
      "text/plain": [
       "<Figure size 720x720 with 1 Axes>"
      ]
     },
     "metadata": {
      "needs_background": "light"
     },
     "output_type": "display_data"
    }
   ],
   "source": [
    "plt.figure(figsize=(10,10))\n",
    "plt.title('No of Sales in each region',fontsize = 20)\n",
    "sns.countplot(data = Data, x = \"region\", palette=('RdPu'))"
   ]
  },
  {
   "cell_type": "markdown",
   "id": "9867eb27",
   "metadata": {},
   "source": [
    "### Questions and Answers"
   ]
  },
  {
   "cell_type": "markdown",
   "id": "6bbacec8",
   "metadata": {},
   "source": [
    "### 1) Which customer id bought maximum products?"
   ]
  },
  {
   "cell_type": "code",
   "execution_count": 7,
   "id": "16173a3c",
   "metadata": {},
   "outputs": [
    {
     "data": {
      "text/plain": [
       "customerid\n",
       "CC1    9\n",
       "CC2    5\n",
       "CC3    3\n",
       "CC4    7\n",
       "Name: product_quantity, dtype: int64"
      ]
     },
     "execution_count": 7,
     "metadata": {},
     "output_type": "execute_result"
    }
   ],
   "source": [
    "data = Data.groupby(by='customerid',group_keys=True).product_quantity.sum()\n",
    "data"
   ]
  },
  {
   "cell_type": "markdown",
   "id": "25ccf45f",
   "metadata": {},
   "source": [
    "#### From the above Data CC1 have bought more Products"
   ]
  },
  {
   "cell_type": "markdown",
   "id": "21259748",
   "metadata": {},
   "source": [
    "### 2) Get sales during Christmas period (21 dec 2020 - 27 dec 2020) by region"
   ]
  },
  {
   "cell_type": "code",
   "execution_count": 8,
   "id": "cea8af47",
   "metadata": {
    "scrolled": true
   },
   "outputs": [
    {
     "data": {
      "text/html": [
       "<div>\n",
       "<style scoped>\n",
       "    .dataframe tbody tr th:only-of-type {\n",
       "        vertical-align: middle;\n",
       "    }\n",
       "\n",
       "    .dataframe tbody tr th {\n",
       "        vertical-align: top;\n",
       "    }\n",
       "\n",
       "    .dataframe thead th {\n",
       "        text-align: right;\n",
       "    }\n",
       "</style>\n",
       "<table border=\"1\" class=\"dataframe\">\n",
       "  <thead>\n",
       "    <tr style=\"text-align: right;\">\n",
       "      <th></th>\n",
       "      <th>date</th>\n",
       "      <th>customerid</th>\n",
       "      <th>product_quantity</th>\n",
       "      <th>price_per_item</th>\n",
       "      <th>region</th>\n",
       "      <th>transaction_id</th>\n",
       "      <th>sales</th>\n",
       "    </tr>\n",
       "  </thead>\n",
       "  <tbody>\n",
       "    <tr>\n",
       "      <th>2</th>\n",
       "      <td>2020-12-26</td>\n",
       "      <td>CC1</td>\n",
       "      <td>2</td>\n",
       "      <td>111</td>\n",
       "      <td>F</td>\n",
       "      <td>3</td>\n",
       "      <td>222</td>\n",
       "    </tr>\n",
       "    <tr>\n",
       "      <th>3</th>\n",
       "      <td>2020-12-27</td>\n",
       "      <td>CC2</td>\n",
       "      <td>1</td>\n",
       "      <td>22</td>\n",
       "      <td>G</td>\n",
       "      <td>4</td>\n",
       "      <td>22</td>\n",
       "    </tr>\n",
       "  </tbody>\n",
       "</table>\n",
       "</div>"
      ],
      "text/plain": [
       "        date customerid  product_quantity  price_per_item region  \\\n",
       "2 2020-12-26        CC1                 2             111      F   \n",
       "3 2020-12-27        CC2                 1              22      G   \n",
       "\n",
       "   transaction_id  sales  \n",
       "2               3    222  \n",
       "3               4     22  "
      ]
     },
     "execution_count": 8,
     "metadata": {},
     "output_type": "execute_result"
    }
   ],
   "source": [
    "Data[Data[\"date\"].between('2020-12-21','2020-12-27')]"
   ]
  },
  {
   "cell_type": "markdown",
   "id": "089c342b",
   "metadata": {},
   "source": [
    "### 3) Get count of transactions by region where customers had greater than 10000 sales and less than 10000 sales"
   ]
  },
  {
   "cell_type": "code",
   "execution_count": 10,
   "id": "6d971cd3",
   "metadata": {},
   "outputs": [
    {
     "data": {
      "text/plain": [
       "region  transaction_id\n",
       "A       2                    88\n",
       "E       1                    99\n",
       "        8                 33000\n",
       "F       3                   222\n",
       "G       4                    22\n",
       "        5                 44000\n",
       "R       9                   132\n",
       "S       6                    66\n",
       "        7                    22\n",
       "Name: sales, dtype: int64"
      ]
     },
     "execution_count": 10,
     "metadata": {},
     "output_type": "execute_result"
    }
   ],
   "source": [
    "Data.groupby(by=['region','transaction_id'],group_keys=True).sales.sum()"
   ]
  },
  {
   "cell_type": "code",
   "execution_count": 11,
   "id": "4dc36def",
   "metadata": {},
   "outputs": [],
   "source": [
    "Data1 = Data[Data['sales'] > 10000 ]"
   ]
  },
  {
   "cell_type": "code",
   "execution_count": 12,
   "id": "c24316df",
   "metadata": {},
   "outputs": [
    {
     "data": {
      "text/html": [
       "<div>\n",
       "<style scoped>\n",
       "    .dataframe tbody tr th:only-of-type {\n",
       "        vertical-align: middle;\n",
       "    }\n",
       "\n",
       "    .dataframe tbody tr th {\n",
       "        vertical-align: top;\n",
       "    }\n",
       "\n",
       "    .dataframe thead th {\n",
       "        text-align: right;\n",
       "    }\n",
       "</style>\n",
       "<table border=\"1\" class=\"dataframe\">\n",
       "  <thead>\n",
       "    <tr style=\"text-align: right;\">\n",
       "      <th></th>\n",
       "      <th>date</th>\n",
       "      <th>customerid</th>\n",
       "      <th>product_quantity</th>\n",
       "      <th>price_per_item</th>\n",
       "      <th>region</th>\n",
       "      <th>transaction_id</th>\n",
       "      <th>sales</th>\n",
       "    </tr>\n",
       "  </thead>\n",
       "  <tbody>\n",
       "    <tr>\n",
       "      <th>4</th>\n",
       "      <td>2020-12-28</td>\n",
       "      <td>CC2</td>\n",
       "      <td>4</td>\n",
       "      <td>11000</td>\n",
       "      <td>G</td>\n",
       "      <td>5</td>\n",
       "      <td>44000</td>\n",
       "    </tr>\n",
       "    <tr>\n",
       "      <th>7</th>\n",
       "      <td>2021-10-09</td>\n",
       "      <td>CC4</td>\n",
       "      <td>3</td>\n",
       "      <td>11000</td>\n",
       "      <td>E</td>\n",
       "      <td>8</td>\n",
       "      <td>33000</td>\n",
       "    </tr>\n",
       "  </tbody>\n",
       "</table>\n",
       "</div>"
      ],
      "text/plain": [
       "        date customerid  product_quantity  price_per_item region  \\\n",
       "4 2020-12-28        CC2                 4           11000      G   \n",
       "7 2021-10-09        CC4                 3           11000      E   \n",
       "\n",
       "   transaction_id  sales  \n",
       "4               5  44000  \n",
       "7               8  33000  "
      ]
     },
     "execution_count": 12,
     "metadata": {},
     "output_type": "execute_result"
    }
   ],
   "source": [
    "Data1"
   ]
  },
  {
   "cell_type": "code",
   "execution_count": 13,
   "id": "10b1edd0",
   "metadata": {},
   "outputs": [],
   "source": [
    "Data2 = Data[Data['sales'] <= 10000 ]"
   ]
  },
  {
   "cell_type": "code",
   "execution_count": 14,
   "id": "64fc3f04",
   "metadata": {
    "scrolled": true
   },
   "outputs": [
    {
     "data": {
      "text/html": [
       "<div>\n",
       "<style scoped>\n",
       "    .dataframe tbody tr th:only-of-type {\n",
       "        vertical-align: middle;\n",
       "    }\n",
       "\n",
       "    .dataframe tbody tr th {\n",
       "        vertical-align: top;\n",
       "    }\n",
       "\n",
       "    .dataframe thead th {\n",
       "        text-align: right;\n",
       "    }\n",
       "</style>\n",
       "<table border=\"1\" class=\"dataframe\">\n",
       "  <thead>\n",
       "    <tr style=\"text-align: right;\">\n",
       "      <th></th>\n",
       "      <th>date</th>\n",
       "      <th>customerid</th>\n",
       "      <th>product_quantity</th>\n",
       "      <th>price_per_item</th>\n",
       "      <th>region</th>\n",
       "      <th>transaction_id</th>\n",
       "      <th>sales</th>\n",
       "    </tr>\n",
       "  </thead>\n",
       "  <tbody>\n",
       "    <tr>\n",
       "      <th>0</th>\n",
       "      <td>2021-10-09</td>\n",
       "      <td>CC1</td>\n",
       "      <td>3</td>\n",
       "      <td>33</td>\n",
       "      <td>E</td>\n",
       "      <td>1</td>\n",
       "      <td>99</td>\n",
       "    </tr>\n",
       "    <tr>\n",
       "      <th>1</th>\n",
       "      <td>2021-10-09</td>\n",
       "      <td>CC1</td>\n",
       "      <td>4</td>\n",
       "      <td>22</td>\n",
       "      <td>A</td>\n",
       "      <td>2</td>\n",
       "      <td>88</td>\n",
       "    </tr>\n",
       "    <tr>\n",
       "      <th>2</th>\n",
       "      <td>2020-12-26</td>\n",
       "      <td>CC1</td>\n",
       "      <td>2</td>\n",
       "      <td>111</td>\n",
       "      <td>F</td>\n",
       "      <td>3</td>\n",
       "      <td>222</td>\n",
       "    </tr>\n",
       "    <tr>\n",
       "      <th>3</th>\n",
       "      <td>2020-12-27</td>\n",
       "      <td>CC2</td>\n",
       "      <td>1</td>\n",
       "      <td>22</td>\n",
       "      <td>G</td>\n",
       "      <td>4</td>\n",
       "      <td>22</td>\n",
       "    </tr>\n",
       "    <tr>\n",
       "      <th>5</th>\n",
       "      <td>2020-12-29</td>\n",
       "      <td>CC3</td>\n",
       "      <td>2</td>\n",
       "      <td>33</td>\n",
       "      <td>S</td>\n",
       "      <td>6</td>\n",
       "      <td>66</td>\n",
       "    </tr>\n",
       "    <tr>\n",
       "      <th>6</th>\n",
       "      <td>2020-12-30</td>\n",
       "      <td>CC3</td>\n",
       "      <td>1</td>\n",
       "      <td>22</td>\n",
       "      <td>S</td>\n",
       "      <td>7</td>\n",
       "      <td>22</td>\n",
       "    </tr>\n",
       "    <tr>\n",
       "      <th>8</th>\n",
       "      <td>2021-10-10</td>\n",
       "      <td>CC4</td>\n",
       "      <td>4</td>\n",
       "      <td>33</td>\n",
       "      <td>R</td>\n",
       "      <td>9</td>\n",
       "      <td>132</td>\n",
       "    </tr>\n",
       "  </tbody>\n",
       "</table>\n",
       "</div>"
      ],
      "text/plain": [
       "        date customerid  product_quantity  price_per_item region  \\\n",
       "0 2021-10-09        CC1                 3              33      E   \n",
       "1 2021-10-09        CC1                 4              22      A   \n",
       "2 2020-12-26        CC1                 2             111      F   \n",
       "3 2020-12-27        CC2                 1              22      G   \n",
       "5 2020-12-29        CC3                 2              33      S   \n",
       "6 2020-12-30        CC3                 1              22      S   \n",
       "8 2021-10-10        CC4                 4              33      R   \n",
       "\n",
       "   transaction_id  sales  \n",
       "0               1     99  \n",
       "1               2     88  \n",
       "2               3    222  \n",
       "3               4     22  \n",
       "5               6     66  \n",
       "6               7     22  \n",
       "8               9    132  "
      ]
     },
     "execution_count": 14,
     "metadata": {},
     "output_type": "execute_result"
    }
   ],
   "source": [
    "Data2"
   ]
  }
 ],
 "metadata": {
  "kernelspec": {
   "display_name": "Python 3 (ipykernel)",
   "language": "python",
   "name": "python3"
  },
  "language_info": {
   "codemirror_mode": {
    "name": "ipython",
    "version": 3
   },
   "file_extension": ".py",
   "mimetype": "text/x-python",
   "name": "python",
   "nbconvert_exporter": "python",
   "pygments_lexer": "ipython3",
   "version": "3.9.12"
  }
 },
 "nbformat": 4,
 "nbformat_minor": 5
}
